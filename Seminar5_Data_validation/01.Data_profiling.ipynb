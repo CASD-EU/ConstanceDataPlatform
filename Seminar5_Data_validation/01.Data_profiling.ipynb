{
 "cells": [
  {
   "metadata": {},
   "cell_type": "markdown",
   "source": [
    "# Data profiling\n",
    "\n",
    "**Data profiling** is the systematic process of examining, analyzing, and summarizing data to understand its structure, quality, and content. It helps uncover data issues, assess readiness for processing, and inform decisions in data integration, cleansing, or analytics projects.\n",
    "\n",
    "In general, data profiling can help us to:\n",
    "- **Assess Data Quality**: Detect nulls, duplicates, outliers, inconsistent formats, or unexpected patterns.\n",
    "- **Understand Schema & Structure**: Analyze data types, column lengths, key constraints, and relationships.\n",
    "- **Discover Relationships**: Identify foreign key candidates, overlaps, and referential integrity between datasets.\n",
    "- **Generate Metadata**: Produce statistics (e.g. cardinality, min/max, frequency) to build a data dictionary.\n",
    "\n",
    "## Types of Profiling\n",
    "- **Column Profiling**: Statistics on individual columns (e.g., null %, distinct count)\n",
    "\n",
    "- **Cross-Column Profiling**: Detecting dependencies or correlations between columns\n",
    "\n",
    "- **Cross-Table Profiling**: Matching keys across tables to validate joins or relationships\n",
    "\n",
    "\n",
    "\n",
    "## Key Metrics in Data Profiling\n",
    "| Metric\t                      | Description                                              |\n",
    "|------------------------------|----------------------------------------------------------|\n",
    "| Null count                   | \tNumber of missing values                                |\n",
    "| Unique values (cardinality)\t | How many distinct values exist                           |\n",
    "| Value distribution\t          | Frequency of each value (useful for categorical columns) |\n",
    "| Pattern recognition          | \tCommon formats, e.g. YYYY-MM-DD, email patterns         |\n",
    "| Min/Max/Mean                 | \tFor numerical columns                                   |\n",
    "| Length analysis\t             | Min/Max/Avg string lengths                               |\n",
    "| Referential integrity\t       | Whether values match across related tables               |\n"
   ],
   "id": "e3b9ad73e40991f5"
  },
  {
   "metadata": {},
   "cell_type": "markdown",
   "source": [
    "## 1. Example with ydata-profiling\n",
    "\n",
    "In this section, we use a tool called ydata-profiling. You can visit their GitHub [page](https://github.com/ydataai/ydata-profiling) for more details.\n",
    "\n",
    "The installation is quite simple\n",
    "\n",
    "```shell\n",
    "# via pip\n",
    "pip install ydata-profiling\n",
    "\n",
    "# via conda\n",
    "conda install -c conda-forge ydata-profiling\n",
    "```\n",
    "\n",
    "If you want to use spark as backend, you need to install ydata with the spark extension.\n",
    "\n",
    "```shell\n",
    "pip install ydata-profiling[spark]\n",
    "```\n",
    "\n",
    "> The official doc use `pip install ydata-profiling[pyspark]`, which is wrong. You can check the origin https://github.com/ydataai/ydata-profiling/blob/develop/pyproject.toml. The mode is spark, not pyspark\n",
    " > The spark mode was introduced in version **v4.0.0**\n"
   ],
   "id": "b78eadd5bf732a8b"
  },
  {
   "cell_type": "code",
   "id": "initial_id",
   "metadata": {
    "collapsed": true,
    "ExecuteTime": {
     "end_time": "2025-07-25T07:37:11.056684Z",
     "start_time": "2025-07-25T07:36:55.150272Z"
    }
   },
   "source": [
    "from pyspark.sql import SparkSession\n",
    "import pandas as pd\n",
    "from ydata_profiling import ProfileReport"
   ],
   "outputs": [
    {
     "data": {
      "text/plain": [
       "<IPython.core.display.HTML object>"
      ],
      "text/html": [
       "\n",
       "            <div>\n",
       "                <ins><a href=\"https://ydata.ai/register\">Upgrade to ydata-sdk</a></ins>\n",
       "                <p>\n",
       "                    Improve your data and profiling with ydata-sdk, featuring data quality scoring, redundancy detection, outlier identification, text validation, and synthetic data generation.\n",
       "                </p>\n",
       "            </div>\n",
       "            "
      ]
     },
     "metadata": {},
     "output_type": "display_data"
    }
   ],
   "execution_count": 1
  },
  {
   "metadata": {
    "ExecuteTime": {
     "end_time": "2025-07-25T07:37:11.911975Z",
     "start_time": "2025-07-25T07:37:11.908078Z"
    }
   },
   "cell_type": "code",
   "source": "file_path = \"../data/csv/us_census_1994.csv\"",
   "id": "820c4771bdb52ece",
   "outputs": [],
   "execution_count": 2
  },
  {
   "metadata": {},
   "cell_type": "markdown",
   "source": "### 1.1 Use pandas",
   "id": "ffd4e5262c17265f"
  },
  {
   "metadata": {
    "ExecuteTime": {
     "end_time": "2025-07-25T07:37:12.066129Z",
     "start_time": "2025-07-25T07:37:11.970193Z"
    }
   },
   "cell_type": "code",
   "source": [
    "columns = [\"age\", \"workclass\", \"fnlwgt\", \"education\", \"education-num\", \"marital-status\", \"occupation\", \"relationship\",\n",
    "           \"race\", \"sex\", \"capital-gain\", \"capital-loss\", \"hours-per-week\", \"native-country\", \"income\"]\n",
    "df = pd.read_csv(file_path, names=columns, header=0)\n",
    "df.head()"
   ],
   "id": "fb69adc2bf6bcb26",
   "outputs": [
    {
     "data": {
      "text/plain": [
       "   age         workclass  fnlwgt  education  education-num  \\\n",
       "0   39         State-gov   77516  Bachelors             13   \n",
       "1   50  Self-emp-not-inc   83311  Bachelors             13   \n",
       "2   38           Private  215646    HS-grad              9   \n",
       "3   53           Private  234721       11th              7   \n",
       "4   28           Private  338409  Bachelors             13   \n",
       "\n",
       "       marital-status         occupation   relationship   race     sex  \\\n",
       "0       Never-married       Adm-clerical  Not-in-family  White    Male   \n",
       "1  Married-civ-spouse    Exec-managerial        Husband  White    Male   \n",
       "2            Divorced  Handlers-cleaners  Not-in-family  White    Male   \n",
       "3  Married-civ-spouse  Handlers-cleaners        Husband  Black    Male   \n",
       "4  Married-civ-spouse     Prof-specialty           Wife  Black  Female   \n",
       "\n",
       "   capital-gain  capital-loss  hours-per-week native-country income  \n",
       "0          2174             0              40  United-States  <=50K  \n",
       "1             0             0              13  United-States  <=50K  \n",
       "2             0             0              40  United-States  <=50K  \n",
       "3             0             0              40  United-States  <=50K  \n",
       "4             0             0              40           Cuba  <=50K  "
      ],
      "text/html": [
       "<div>\n",
       "<style scoped>\n",
       "    .dataframe tbody tr th:only-of-type {\n",
       "        vertical-align: middle;\n",
       "    }\n",
       "\n",
       "    .dataframe tbody tr th {\n",
       "        vertical-align: top;\n",
       "    }\n",
       "\n",
       "    .dataframe thead th {\n",
       "        text-align: right;\n",
       "    }\n",
       "</style>\n",
       "<table border=\"1\" class=\"dataframe\">\n",
       "  <thead>\n",
       "    <tr style=\"text-align: right;\">\n",
       "      <th></th>\n",
       "      <th>age</th>\n",
       "      <th>workclass</th>\n",
       "      <th>fnlwgt</th>\n",
       "      <th>education</th>\n",
       "      <th>education-num</th>\n",
       "      <th>marital-status</th>\n",
       "      <th>occupation</th>\n",
       "      <th>relationship</th>\n",
       "      <th>race</th>\n",
       "      <th>sex</th>\n",
       "      <th>capital-gain</th>\n",
       "      <th>capital-loss</th>\n",
       "      <th>hours-per-week</th>\n",
       "      <th>native-country</th>\n",
       "      <th>income</th>\n",
       "    </tr>\n",
       "  </thead>\n",
       "  <tbody>\n",
       "    <tr>\n",
       "      <th>0</th>\n",
       "      <td>39</td>\n",
       "      <td>State-gov</td>\n",
       "      <td>77516</td>\n",
       "      <td>Bachelors</td>\n",
       "      <td>13</td>\n",
       "      <td>Never-married</td>\n",
       "      <td>Adm-clerical</td>\n",
       "      <td>Not-in-family</td>\n",
       "      <td>White</td>\n",
       "      <td>Male</td>\n",
       "      <td>2174</td>\n",
       "      <td>0</td>\n",
       "      <td>40</td>\n",
       "      <td>United-States</td>\n",
       "      <td>&lt;=50K</td>\n",
       "    </tr>\n",
       "    <tr>\n",
       "      <th>1</th>\n",
       "      <td>50</td>\n",
       "      <td>Self-emp-not-inc</td>\n",
       "      <td>83311</td>\n",
       "      <td>Bachelors</td>\n",
       "      <td>13</td>\n",
       "      <td>Married-civ-spouse</td>\n",
       "      <td>Exec-managerial</td>\n",
       "      <td>Husband</td>\n",
       "      <td>White</td>\n",
       "      <td>Male</td>\n",
       "      <td>0</td>\n",
       "      <td>0</td>\n",
       "      <td>13</td>\n",
       "      <td>United-States</td>\n",
       "      <td>&lt;=50K</td>\n",
       "    </tr>\n",
       "    <tr>\n",
       "      <th>2</th>\n",
       "      <td>38</td>\n",
       "      <td>Private</td>\n",
       "      <td>215646</td>\n",
       "      <td>HS-grad</td>\n",
       "      <td>9</td>\n",
       "      <td>Divorced</td>\n",
       "      <td>Handlers-cleaners</td>\n",
       "      <td>Not-in-family</td>\n",
       "      <td>White</td>\n",
       "      <td>Male</td>\n",
       "      <td>0</td>\n",
       "      <td>0</td>\n",
       "      <td>40</td>\n",
       "      <td>United-States</td>\n",
       "      <td>&lt;=50K</td>\n",
       "    </tr>\n",
       "    <tr>\n",
       "      <th>3</th>\n",
       "      <td>53</td>\n",
       "      <td>Private</td>\n",
       "      <td>234721</td>\n",
       "      <td>11th</td>\n",
       "      <td>7</td>\n",
       "      <td>Married-civ-spouse</td>\n",
       "      <td>Handlers-cleaners</td>\n",
       "      <td>Husband</td>\n",
       "      <td>Black</td>\n",
       "      <td>Male</td>\n",
       "      <td>0</td>\n",
       "      <td>0</td>\n",
       "      <td>40</td>\n",
       "      <td>United-States</td>\n",
       "      <td>&lt;=50K</td>\n",
       "    </tr>\n",
       "    <tr>\n",
       "      <th>4</th>\n",
       "      <td>28</td>\n",
       "      <td>Private</td>\n",
       "      <td>338409</td>\n",
       "      <td>Bachelors</td>\n",
       "      <td>13</td>\n",
       "      <td>Married-civ-spouse</td>\n",
       "      <td>Prof-specialty</td>\n",
       "      <td>Wife</td>\n",
       "      <td>Black</td>\n",
       "      <td>Female</td>\n",
       "      <td>0</td>\n",
       "      <td>0</td>\n",
       "      <td>40</td>\n",
       "      <td>Cuba</td>\n",
       "      <td>&lt;=50K</td>\n",
       "    </tr>\n",
       "  </tbody>\n",
       "</table>\n",
       "</div>"
      ]
     },
     "execution_count": 3,
     "metadata": {},
     "output_type": "execute_result"
    }
   ],
   "execution_count": 3
  },
  {
   "metadata": {
    "ExecuteTime": {
     "end_time": "2025-07-25T07:37:13.150111Z",
     "start_time": "2025-07-25T07:37:13.114188Z"
    }
   },
   "cell_type": "code",
   "source": "print(df.describe())",
   "id": "60eb96e00c8b2305",
   "outputs": [
    {
     "name": "stdout",
     "output_type": "stream",
     "text": [
      "                age        fnlwgt  education-num  capital-gain  capital-loss  \\\n",
      "count  32561.000000  3.256100e+04   32561.000000  32561.000000  32561.000000   \n",
      "mean      38.581647  1.897784e+05      10.080679   1077.648844     87.303830   \n",
      "std       13.640433  1.055500e+05       2.572720   7385.292085    402.960219   \n",
      "min       17.000000  1.228500e+04       1.000000      0.000000      0.000000   \n",
      "25%       28.000000  1.178270e+05       9.000000      0.000000      0.000000   \n",
      "50%       37.000000  1.783560e+05      10.000000      0.000000      0.000000   \n",
      "75%       48.000000  2.370510e+05      12.000000      0.000000      0.000000   \n",
      "max       90.000000  1.484705e+06      16.000000  99999.000000   4356.000000   \n",
      "\n",
      "       hours-per-week  \n",
      "count    32561.000000  \n",
      "mean        40.437456  \n",
      "std         12.347429  \n",
      "min          1.000000  \n",
      "25%         40.000000  \n",
      "50%         40.000000  \n",
      "75%         45.000000  \n",
      "max         99.000000  \n"
     ]
    }
   ],
   "execution_count": 4
  },
  {
   "metadata": {
    "ExecuteTime": {
     "end_time": "2025-07-25T07:37:27.473863Z",
     "start_time": "2025-07-25T07:37:18.727397Z"
    }
   },
   "cell_type": "code",
   "source": [
    "profile = ProfileReport(df, title=\"Profiling Report\")\n",
    "profile.to_file(\"my_report.html\")"
   ],
   "id": "51db5b12794616ae",
   "outputs": [
    {
     "data": {
      "text/plain": [
       "Summarize dataset:   0%|          | 0/5 [00:00<?, ?it/s]"
      ],
      "application/vnd.jupyter.widget-view+json": {
       "version_major": 2,
       "version_minor": 0,
       "model_id": "1545737749004239978c2bbe5df465ca"
      }
     },
     "metadata": {},
     "output_type": "display_data"
    },
    {
     "name": "stderr",
     "output_type": "stream",
     "text": [
      "\n",
      "  0%|          | 0/15 [00:00<?, ?it/s]\u001B[A\n",
      "  7%|▋         | 1/15 [00:00<00:01,  7.21it/s]\u001B[A\n",
      "100%|██████████| 15/15 [00:00<00:00, 35.32it/s][A\n"
     ]
    },
    {
     "data": {
      "text/plain": [
       "Generate report structure:   0%|          | 0/1 [00:00<?, ?it/s]"
      ],
      "application/vnd.jupyter.widget-view+json": {
       "version_major": 2,
       "version_minor": 0,
       "model_id": "95c5461ee74241578d344ea4babaa7db"
      }
     },
     "metadata": {},
     "output_type": "display_data"
    },
    {
     "data": {
      "text/plain": [
       "Render HTML:   0%|          | 0/1 [00:00<?, ?it/s]"
      ],
      "application/vnd.jupyter.widget-view+json": {
       "version_major": 2,
       "version_minor": 0,
       "model_id": "ca790e62e2b942dc8a70e7174d4eea9e"
      }
     },
     "metadata": {},
     "output_type": "display_data"
    },
    {
     "data": {
      "text/plain": [
       "Export report to file:   0%|          | 0/1 [00:00<?, ?it/s]"
      ],
      "application/vnd.jupyter.widget-view+json": {
       "version_major": 2,
       "version_minor": 0,
       "model_id": "91874a33d31d4d91ba30ccf9f9cb3180"
      }
     },
     "metadata": {},
     "output_type": "display_data"
    }
   ],
   "execution_count": 5
  },
  {
   "metadata": {},
   "cell_type": "markdown",
   "source": "### 1.2 Use spark",
   "id": "8ec8b27d2751daf4"
  },
  {
   "metadata": {
    "ExecuteTime": {
     "end_time": "2025-07-25T07:38:07.660179Z",
     "start_time": "2025-07-25T07:37:32.535662Z"
    }
   },
   "cell_type": "code",
   "source": [
    "spark = SparkSession.builder.master(\"local[4]\") \\\n",
    "      .appName(\"spark data profiling\") \\\n",
    "      .getOrCreate()"
   ],
   "id": "fcaf8b08445ec084",
   "outputs": [],
   "execution_count": 6
  },
  {
   "metadata": {
    "ExecuteTime": {
     "end_time": "2025-07-25T07:38:19.663784Z",
     "start_time": "2025-07-25T07:38:19.652724Z"
    }
   },
   "cell_type": "code",
   "source": [
    "from pyspark.sql.types import StructType, IntegerType, StringType\n",
    "\n",
    "schema = StructType() \\\n",
    "      .add(\"age\",IntegerType(),True) \\\n",
    "      .add(\"workclass\",StringType(),True) \\\n",
    "      .add(\"fnlwgt\",IntegerType(),True) \\\n",
    "      .add(\"education\",StringType(),True) \\\n",
    "      .add(\"education-num\",IntegerType(),True) \\\n",
    "      .add(\"marital-status\",StringType(),True) \\\n",
    "      .add(\"occupation\",StringType(),True) \\\n",
    "      .add(\"relationship\",StringType(),True) \\\n",
    "      .add(\"race\",StringType(),True) \\\n",
    "      .add(\"sex\",StringType(),True) \\\n",
    "      .add(\"capital-gain\",IntegerType(),True) \\\n",
    "      .add(\"capital-loss\",IntegerType(),True) \\\n",
    "      .add(\"hours-per-week\",IntegerType(),True) \\\n",
    "      .add(\"native-country\",StringType(),True) \\\n",
    "      .add(\"income\",StringType(),True)"
   ],
   "id": "b494fe414a41b9bb",
   "outputs": [],
   "execution_count": 7
  },
  {
   "metadata": {
    "ExecuteTime": {
     "end_time": "2025-07-25T07:38:23.076025Z",
     "start_time": "2025-07-25T07:38:20.399210Z"
    }
   },
   "cell_type": "code",
   "source": [
    "df = spark.read.csv(file_path, header=False, schema=schema)\n",
    "\n",
    "df.printSchema()"
   ],
   "id": "c03e6ec9e4b28e22",
   "outputs": [
    {
     "name": "stdout",
     "output_type": "stream",
     "text": [
      "root\n",
      " |-- age: integer (nullable = true)\n",
      " |-- workclass: string (nullable = true)\n",
      " |-- fnlwgt: integer (nullable = true)\n",
      " |-- education: string (nullable = true)\n",
      " |-- education-num: integer (nullable = true)\n",
      " |-- marital-status: string (nullable = true)\n",
      " |-- occupation: string (nullable = true)\n",
      " |-- relationship: string (nullable = true)\n",
      " |-- race: string (nullable = true)\n",
      " |-- sex: string (nullable = true)\n",
      " |-- capital-gain: integer (nullable = true)\n",
      " |-- capital-loss: integer (nullable = true)\n",
      " |-- hours-per-week: integer (nullable = true)\n",
      " |-- native-country: string (nullable = true)\n",
      " |-- income: string (nullable = true)\n",
      "\n"
     ]
    }
   ],
   "execution_count": 8
  },
  {
   "metadata": {
    "ExecuteTime": {
     "end_time": "2025-07-25T07:38:26.297324Z",
     "start_time": "2025-07-25T07:38:23.218758Z"
    }
   },
   "cell_type": "code",
   "source": "df.show(5)",
   "id": "68f8bbd837f354e4",
   "outputs": [
    {
     "name": "stdout",
     "output_type": "stream",
     "text": [
      "+----+----------------+------+---------+-------------+------------------+-----------------+-------------+-----+----+------------+------------+--------------+--------------+------+\n",
      "| age|       workclass|fnlwgt|education|education-num|    marital-status|       occupation| relationship| race| sex|capital-gain|capital-loss|hours-per-week|native-country|income|\n",
      "+----+----------------+------+---------+-------------+------------------+-----------------+-------------+-----+----+------------+------------+--------------+--------------+------+\n",
      "|NULL|       workclass|  NULL|education|         NULL|     marial-status|       occupation| relationship| race| sex|        NULL|        NULL|          NULL|native-country|income|\n",
      "|  39|       State-gov| 77516|Bachelors|           13|     Never-married|     Adm-clerical|Not-in-family|White|Male|        2174|           0|            40| United-States| <=50K|\n",
      "|  50|Self-emp-not-inc| 83311|Bachelors|           13|Married-civ-spouse|  Exec-managerial|      Husband|White|Male|           0|           0|            13| United-States| <=50K|\n",
      "|  38|         Private|215646|  HS-grad|            9|          Divorced|Handlers-cleaners|Not-in-family|White|Male|           0|           0|            40| United-States| <=50K|\n",
      "|  53|         Private|234721|     11th|            7|Married-civ-spouse|Handlers-cleaners|      Husband|Black|Male|           0|           0|            40| United-States| <=50K|\n",
      "+----+----------------+------+---------+-------------+------------------+-----------------+-------------+-----+----+------------+------------+--------------+--------------+------+\n",
      "only showing top 5 rows\n",
      "\n"
     ]
    }
   ],
   "execution_count": 9
  },
  {
   "metadata": {},
   "cell_type": "code",
   "source": [
    "# this does not work\n",
    "a = ProfileReport(df)\n",
    "a.to_file(\"../spark_profile.html\")"
   ],
   "id": "ba1e64cb1f7abde6",
   "outputs": [],
   "execution_count": null
  },
  {
   "metadata": {},
   "cell_type": "code",
   "outputs": [],
   "execution_count": null,
   "source": "",
   "id": "42b497d833e25b1a"
  }
 ],
 "metadata": {
  "kernelspec": {
   "display_name": "Python 3",
   "language": "python",
   "name": "python3"
  },
  "language_info": {
   "codemirror_mode": {
    "name": "ipython",
    "version": 2
   },
   "file_extension": ".py",
   "mimetype": "text/x-python",
   "name": "python",
   "nbconvert_exporter": "python",
   "pygments_lexer": "ipython2",
   "version": "2.7.6"
  }
 },
 "nbformat": 4,
 "nbformat_minor": 5
}
