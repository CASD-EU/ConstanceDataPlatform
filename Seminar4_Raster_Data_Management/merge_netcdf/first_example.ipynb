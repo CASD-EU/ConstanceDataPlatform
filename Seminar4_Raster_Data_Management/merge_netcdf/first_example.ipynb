{
 "cells": [
  {
   "metadata": {},
   "cell_type": "markdown",
   "source": "# Try to merge netcdf files",
   "id": "eaaa22ff3e12fc5a"
  },
  {
   "metadata": {
    "ExecuteTime": {
     "end_time": "2025-06-16T09:47:51.697282Z",
     "start_time": "2025-06-16T09:47:48.380306Z"
    }
   },
   "cell_type": "code",
   "source": [
    "import xarray as xr\n",
    "import numpy as np\n",
    "import pandas as pd\n",
    "import pathlib"
   ],
   "id": "a773a2d679f8f2f6",
   "outputs": [],
   "execution_count": 2
  },
  {
   "metadata": {
    "ExecuteTime": {
     "end_time": "2025-06-16T09:50:39.865678Z",
     "start_time": "2025-06-16T09:50:39.854719Z"
    }
   },
   "cell_type": "code",
   "source": [
    "file_root_path = (pathlib.Path.cwd().parent.parent / \"data/tmp/netcdf_test_files\").as_posix() \n",
    "print(file_root_path)"
   ],
   "id": "c14d04fdc7062170",
   "outputs": [
    {
     "name": "stdout",
     "output_type": "stream",
     "text": [
      "C:/Users/PLIU/Documents/git/ConstanceDataPlatform/data/tmp/netcdf_test_files\n"
     ]
    }
   ],
   "execution_count": 7
  },
  {
   "metadata": {},
   "cell_type": "markdown",
   "source": "## 1: Create dummy NetCDF files for 3 days",
   "id": "ffb8f17a8245105b"
  },
  {
   "metadata": {
    "ExecuteTime": {
     "end_time": "2025-06-16T11:24:23.077182Z",
     "start_time": "2025-06-16T11:24:23.051189Z"
    }
   },
   "cell_type": "code",
   "source": [
    "# Define dimensions\n",
    "time = pd.date_range(\"2025-01-01\", periods=3)\n",
    "lat = np.array([10.0, 20.0], dtype=np.float32)\n",
    "lon = np.array([30.0, 40.0], dtype=np.float32)\n",
    "\n",
    "# Generate dummy temperature data\n",
    "temperature_data = np.random.uniform(280, 300, size=(3, 2, 2)).astype(np.float32)\n",
    "humidity_data = np.random.uniform(30, 80, size=(3, 2, 2)).astype(np.float32)\n",
    "\n",
    "# Create dataset\n",
    "ds = xr.Dataset(\n",
    "    data_vars={\n",
    "        \"temperature\": ([\"time\", \"lat\", \"lon\"], temperature_data),\n",
    "        \"humidity\": ([\"time\", \"lat\", \"lon\"], humidity_data),\n",
    "    },\n",
    "    coords={\n",
    "        \"time\": (\"time\", time),\n",
    "        \"lat\": (\"lat\", lat),\n",
    "        \"lon\": (\"lon\", lon),\n",
    "    },\n",
    "    attrs={\n",
    "        \"title\": \"Temperature sample Dataset\",\n",
    "        \"institution\": \"CASD Meteorological Center\",\n",
    "        \"source\": \"Simulated data\",\n",
    "        \"history\": \"Created 2025-06-16\",\n",
    "        \"Conventions\": \"CF-1.8\"\n",
    "    }\n",
    ")\n",
    "\n",
    "# Add variable attributes\n",
    "ds[\"temperature\"].attrs = {\n",
    "    \"long_name\": \"Surface Air Temperature\",\n",
    "    \"units\": \"K\",\n",
    "    \"_FillValue\": -999.0\n",
    "}\n",
    "ds[\"humidity\"].attrs = {\n",
    "    \"long_name\": \"Surface Air Humidity\",\n",
    "    \"units\": \"percentage\",\n",
    "    \"_FillValue\": -1.0\n",
    "}\n",
    "ds[\"time\"].attrs = {\n",
    "    \"long_name\": \"time\"\n",
    "}\n",
    "ds[\"time\"].encoding = {\n",
    "    \"units\": \"days since 2000-01-01 00:00:00\",\n",
    "    \"calendar\": \"standard\"\n",
    "}\n",
    "\n",
    "ds[\"lat\"].attrs = {\n",
    "    \"units\": \"degrees_north\",\n",
    "    \"long_name\": \"latitude\"\n",
    "}\n",
    "ds[\"lon\"].attrs = {\n",
    "    \"units\": \"degrees_east\",\n",
    "    \"long_name\": \"longitude\"\n",
    "}\n",
    "\n",
    "# Save as NetCDF\n",
    "print(ds)\n",
    "ds.to_netcdf(f'{file_root_path}/day{i+1}.nc',engine='netcdf4')"
   ],
   "id": "bed0647af3751068",
   "outputs": [],
   "execution_count": 23
  },
  {
   "metadata": {
    "ExecuteTime": {
     "end_time": "2025-06-16T11:18:46.513113Z",
     "start_time": "2025-06-16T11:18:46.265243Z"
    }
   },
   "cell_type": "code",
   "source": [
    "\n",
    "lat = np.linspace(-10, 10, 5)  # 5 latitudes\n",
    "lon = np.linspace(30, 50, 5)   # 5 longitudes\n",
    "lon2d, lat2d = np.meshgrid(lon, lat)\n",
    "\n",
    "for i in range(3):\n",
    "    temperature = 15 + 5 * np.random.rand(5, 5)# Random temp 15–20°C\n",
    "    humidity = np.random.uniform(30, 80, size=(3, 2, 2)).astype(np.float32)\n",
    "    print(f\"temperature: {temperature}\")\n",
    "    print(f\"humidity: {humidity}\")\n",
    "    ds = xr.Dataset(\n",
    "        data_vars={\n",
    "            'temperature': (['lat', 'lon'], temperature),\n",
    "            \"humidity\": (['lat', 'lon'], humidity),\n",
    "            \n",
    "        },\n",
    "        coords={\n",
    "            'lat': lat,\n",
    "            'lon': lon\n",
    "        }\n",
    "    )\n",
    "    print(ds)\n",
    "    ds.to_netcdf(f'{file_root_path}/day{i+1}.nc',engine='netcdf4')\n",
    "\n"
   ],
   "id": "c8087a88111ba401",
   "outputs": [
    {
     "name": "stdout",
     "output_type": "stream",
     "text": [
      "temperature: [[16.0863181  17.88791981 15.72946617 19.21319504 18.61724826]\n",
      " [18.8708541  16.46897315 15.55449772 18.98285372 16.28906369]\n",
      " [18.54086359 15.69945871 18.75563647 19.32993382 17.26440456]\n",
      " [19.00413436 16.01441074 16.2566889  19.2240957  15.29462334]\n",
      " [15.61937012 19.99580718 15.12977254 19.82786799 19.38579257]]\n",
      "humidity: [[[30.321533 51.648964]\n",
      "  [49.864017 67.422325]]\n",
      "\n",
      " [[60.79177  34.082615]\n",
      "  [30.572166 55.646294]]\n",
      "\n",
      " [[42.721786 45.467155]\n",
      "  [70.681595 42.165558]]]\n"
     ]
    },
    {
     "ename": "ValueError",
     "evalue": "Variable 'humidity': Could not convert tuple of form (dims, data[, attrs, encoding]): (['lat', 'lon'], array([[[30.321533, 51.648964],\n        [49.864017, 67.422325]],\n\n       [[60.79177 , 34.082615],\n        [30.572166, 55.646294]],\n\n       [[42.721786, 45.467155],\n        [70.681595, 42.165558]]], dtype=float32)) to Variable.",
     "output_type": "error",
     "traceback": [
      "\u001B[1;31m---------------------------------------------------------------------------\u001B[0m",
      "\u001B[1;31mValueError\u001B[0m                                Traceback (most recent call last)",
      "File \u001B[1;32m~\\Documents\\git\\ConstanceDataPlatform\\cdp_venv\\Lib\\site-packages\\xarray\\core\\variable.py:149\u001B[0m, in \u001B[0;36mas_variable\u001B[1;34m(obj, name, auto_convert)\u001B[0m\n\u001B[0;32m    148\u001B[0m \u001B[38;5;28;01mtry\u001B[39;00m:\n\u001B[1;32m--> 149\u001B[0m     obj \u001B[38;5;241m=\u001B[39m \u001B[43mVariable\u001B[49m\u001B[43m(\u001B[49m\u001B[43mdims_\u001B[49m\u001B[43m,\u001B[49m\u001B[43m \u001B[49m\u001B[43mdata_\u001B[49m\u001B[43m,\u001B[49m\u001B[43m \u001B[49m\u001B[38;5;241;43m*\u001B[39;49m\u001B[43mattrs\u001B[49m\u001B[43m)\u001B[49m\n\u001B[0;32m    150\u001B[0m \u001B[38;5;28;01mexcept\u001B[39;00m (\u001B[38;5;167;01mTypeError\u001B[39;00m, \u001B[38;5;167;01mValueError\u001B[39;00m) \u001B[38;5;28;01mas\u001B[39;00m error:\n",
      "File \u001B[1;32m~\\Documents\\git\\ConstanceDataPlatform\\cdp_venv\\Lib\\site-packages\\xarray\\core\\variable.py:378\u001B[0m, in \u001B[0;36mVariable.__init__\u001B[1;34m(self, dims, data, attrs, encoding, fastpath)\u001B[0m\n\u001B[0;32m    358\u001B[0m \u001B[38;5;250m\u001B[39m\u001B[38;5;124;03m\"\"\"\u001B[39;00m\n\u001B[0;32m    359\u001B[0m \u001B[38;5;124;03mParameters\u001B[39;00m\n\u001B[0;32m    360\u001B[0m \u001B[38;5;124;03m----------\u001B[39;00m\n\u001B[1;32m   (...)\u001B[0m\n\u001B[0;32m    376\u001B[0m \u001B[38;5;124;03m    unrecognized encoding items.\u001B[39;00m\n\u001B[0;32m    377\u001B[0m \u001B[38;5;124;03m\"\"\"\u001B[39;00m\n\u001B[1;32m--> 378\u001B[0m \u001B[38;5;28;43msuper\u001B[39;49m\u001B[43m(\u001B[49m\u001B[43m)\u001B[49m\u001B[38;5;241;43m.\u001B[39;49m\u001B[38;5;21;43m__init__\u001B[39;49m\u001B[43m(\u001B[49m\n\u001B[0;32m    379\u001B[0m \u001B[43m    \u001B[49m\u001B[43mdims\u001B[49m\u001B[38;5;241;43m=\u001B[39;49m\u001B[43mdims\u001B[49m\u001B[43m,\u001B[49m\u001B[43m \u001B[49m\u001B[43mdata\u001B[49m\u001B[38;5;241;43m=\u001B[39;49m\u001B[43mas_compatible_data\u001B[49m\u001B[43m(\u001B[49m\u001B[43mdata\u001B[49m\u001B[43m,\u001B[49m\u001B[43m \u001B[49m\u001B[43mfastpath\u001B[49m\u001B[38;5;241;43m=\u001B[39;49m\u001B[43mfastpath\u001B[49m\u001B[43m)\u001B[49m\u001B[43m,\u001B[49m\u001B[43m \u001B[49m\u001B[43mattrs\u001B[49m\u001B[38;5;241;43m=\u001B[39;49m\u001B[43mattrs\u001B[49m\n\u001B[0;32m    380\u001B[0m \u001B[43m\u001B[49m\u001B[43m)\u001B[49m\n\u001B[0;32m    382\u001B[0m \u001B[38;5;28mself\u001B[39m\u001B[38;5;241m.\u001B[39m_encoding \u001B[38;5;241m=\u001B[39m \u001B[38;5;28;01mNone\u001B[39;00m\n",
      "File \u001B[1;32m~\\Documents\\git\\ConstanceDataPlatform\\cdp_venv\\Lib\\site-packages\\xarray\\namedarray\\core.py:264\u001B[0m, in \u001B[0;36mNamedArray.__init__\u001B[1;34m(self, dims, data, attrs)\u001B[0m\n\u001B[0;32m    263\u001B[0m \u001B[38;5;28mself\u001B[39m\u001B[38;5;241m.\u001B[39m_data \u001B[38;5;241m=\u001B[39m data\n\u001B[1;32m--> 264\u001B[0m \u001B[38;5;28mself\u001B[39m\u001B[38;5;241m.\u001B[39m_dims \u001B[38;5;241m=\u001B[39m \u001B[38;5;28;43mself\u001B[39;49m\u001B[38;5;241;43m.\u001B[39;49m\u001B[43m_parse_dimensions\u001B[49m\u001B[43m(\u001B[49m\u001B[43mdims\u001B[49m\u001B[43m)\u001B[49m\n\u001B[0;32m    265\u001B[0m \u001B[38;5;28mself\u001B[39m\u001B[38;5;241m.\u001B[39m_attrs \u001B[38;5;241m=\u001B[39m \u001B[38;5;28mdict\u001B[39m(attrs) \u001B[38;5;28;01mif\u001B[39;00m attrs \u001B[38;5;28;01melse\u001B[39;00m \u001B[38;5;28;01mNone\u001B[39;00m\n",
      "File \u001B[1;32m~\\Documents\\git\\ConstanceDataPlatform\\cdp_venv\\Lib\\site-packages\\xarray\\namedarray\\core.py:508\u001B[0m, in \u001B[0;36mNamedArray._parse_dimensions\u001B[1;34m(self, dims)\u001B[0m\n\u001B[0;32m    507\u001B[0m \u001B[38;5;28;01mif\u001B[39;00m \u001B[38;5;28mlen\u001B[39m(dims) \u001B[38;5;241m!=\u001B[39m \u001B[38;5;28mself\u001B[39m\u001B[38;5;241m.\u001B[39mndim:\n\u001B[1;32m--> 508\u001B[0m     \u001B[38;5;28;01mraise\u001B[39;00m \u001B[38;5;167;01mValueError\u001B[39;00m(\n\u001B[0;32m    509\u001B[0m         \u001B[38;5;124mf\u001B[39m\u001B[38;5;124m\"\u001B[39m\u001B[38;5;124mdimensions \u001B[39m\u001B[38;5;132;01m{\u001B[39;00mdims\u001B[38;5;132;01m}\u001B[39;00m\u001B[38;5;124m must have the same length as the \u001B[39m\u001B[38;5;124m\"\u001B[39m\n\u001B[0;32m    510\u001B[0m         \u001B[38;5;124mf\u001B[39m\u001B[38;5;124m\"\u001B[39m\u001B[38;5;124mnumber of data dimensions, ndim=\u001B[39m\u001B[38;5;132;01m{\u001B[39;00m\u001B[38;5;28mself\u001B[39m\u001B[38;5;241m.\u001B[39mndim\u001B[38;5;132;01m}\u001B[39;00m\u001B[38;5;124m\"\u001B[39m\n\u001B[0;32m    511\u001B[0m     )\n\u001B[0;32m    512\u001B[0m \u001B[38;5;28;01mif\u001B[39;00m \u001B[38;5;28mlen\u001B[39m(\u001B[38;5;28mset\u001B[39m(dims)) \u001B[38;5;241m<\u001B[39m \u001B[38;5;28mlen\u001B[39m(dims):\n",
      "\u001B[1;31mValueError\u001B[0m: dimensions ('lat', 'lon') must have the same length as the number of data dimensions, ndim=3",
      "\nThe above exception was the direct cause of the following exception:\n",
      "\u001B[1;31mValueError\u001B[0m                                Traceback (most recent call last)",
      "Cell \u001B[1;32mIn[19], line 10\u001B[0m\n\u001B[0;32m      8\u001B[0m \u001B[38;5;28mprint\u001B[39m(\u001B[38;5;124mf\u001B[39m\u001B[38;5;124m\"\u001B[39m\u001B[38;5;124mtemperature: \u001B[39m\u001B[38;5;132;01m{\u001B[39;00mtemperature\u001B[38;5;132;01m}\u001B[39;00m\u001B[38;5;124m\"\u001B[39m)\n\u001B[0;32m      9\u001B[0m \u001B[38;5;28mprint\u001B[39m(\u001B[38;5;124mf\u001B[39m\u001B[38;5;124m\"\u001B[39m\u001B[38;5;124mhumidity: \u001B[39m\u001B[38;5;132;01m{\u001B[39;00mhumidity\u001B[38;5;132;01m}\u001B[39;00m\u001B[38;5;124m\"\u001B[39m)\n\u001B[1;32m---> 10\u001B[0m ds \u001B[38;5;241m=\u001B[39m \u001B[43mxr\u001B[49m\u001B[38;5;241;43m.\u001B[39;49m\u001B[43mDataset\u001B[49m\u001B[43m(\u001B[49m\n\u001B[0;32m     11\u001B[0m \u001B[43m    \u001B[49m\u001B[43mdata_vars\u001B[49m\u001B[38;5;241;43m=\u001B[39;49m\u001B[43m{\u001B[49m\n\u001B[0;32m     12\u001B[0m \u001B[43m        \u001B[49m\u001B[38;5;124;43m'\u001B[39;49m\u001B[38;5;124;43mtemperature\u001B[39;49m\u001B[38;5;124;43m'\u001B[39;49m\u001B[43m:\u001B[49m\u001B[43m \u001B[49m\u001B[43m(\u001B[49m\u001B[43m[\u001B[49m\u001B[38;5;124;43m'\u001B[39;49m\u001B[38;5;124;43mlat\u001B[39;49m\u001B[38;5;124;43m'\u001B[39;49m\u001B[43m,\u001B[49m\u001B[43m \u001B[49m\u001B[38;5;124;43m'\u001B[39;49m\u001B[38;5;124;43mlon\u001B[39;49m\u001B[38;5;124;43m'\u001B[39;49m\u001B[43m]\u001B[49m\u001B[43m,\u001B[49m\u001B[43m \u001B[49m\u001B[43mtemperature\u001B[49m\u001B[43m)\u001B[49m\u001B[43m,\u001B[49m\n\u001B[0;32m     13\u001B[0m \u001B[43m        \u001B[49m\u001B[38;5;124;43m\"\u001B[39;49m\u001B[38;5;124;43mhumidity\u001B[39;49m\u001B[38;5;124;43m\"\u001B[39;49m\u001B[43m:\u001B[49m\u001B[43m \u001B[49m\u001B[43m(\u001B[49m\u001B[43m[\u001B[49m\u001B[38;5;124;43m'\u001B[39;49m\u001B[38;5;124;43mlat\u001B[39;49m\u001B[38;5;124;43m'\u001B[39;49m\u001B[43m,\u001B[49m\u001B[43m \u001B[49m\u001B[38;5;124;43m'\u001B[39;49m\u001B[38;5;124;43mlon\u001B[39;49m\u001B[38;5;124;43m'\u001B[39;49m\u001B[43m]\u001B[49m\u001B[43m,\u001B[49m\u001B[43m \u001B[49m\u001B[43mhumidity\u001B[49m\u001B[43m)\u001B[49m\u001B[43m,\u001B[49m\n\u001B[0;32m     14\u001B[0m \u001B[43m        \u001B[49m\n\u001B[0;32m     15\u001B[0m \u001B[43m    \u001B[49m\u001B[43m}\u001B[49m\u001B[43m,\u001B[49m\n\u001B[0;32m     16\u001B[0m \u001B[43m    \u001B[49m\u001B[43mcoords\u001B[49m\u001B[38;5;241;43m=\u001B[39;49m\u001B[43m{\u001B[49m\n\u001B[0;32m     17\u001B[0m \u001B[43m        \u001B[49m\u001B[38;5;124;43m'\u001B[39;49m\u001B[38;5;124;43mlat\u001B[39;49m\u001B[38;5;124;43m'\u001B[39;49m\u001B[43m:\u001B[49m\u001B[43m \u001B[49m\u001B[43mlat\u001B[49m\u001B[43m,\u001B[49m\n\u001B[0;32m     18\u001B[0m \u001B[43m        \u001B[49m\u001B[38;5;124;43m'\u001B[39;49m\u001B[38;5;124;43mlon\u001B[39;49m\u001B[38;5;124;43m'\u001B[39;49m\u001B[43m:\u001B[49m\u001B[43m \u001B[49m\u001B[43mlon\u001B[49m\n\u001B[0;32m     19\u001B[0m \u001B[43m    \u001B[49m\u001B[43m}\u001B[49m\n\u001B[0;32m     20\u001B[0m \u001B[43m\u001B[49m\u001B[43m)\u001B[49m\n\u001B[0;32m     21\u001B[0m \u001B[38;5;28mprint\u001B[39m(ds)\n\u001B[0;32m     22\u001B[0m ds\u001B[38;5;241m.\u001B[39mto_netcdf(\u001B[38;5;124mf\u001B[39m\u001B[38;5;124m'\u001B[39m\u001B[38;5;132;01m{\u001B[39;00mfile_root_path\u001B[38;5;132;01m}\u001B[39;00m\u001B[38;5;124m/day\u001B[39m\u001B[38;5;132;01m{\u001B[39;00mi\u001B[38;5;241m+\u001B[39m\u001B[38;5;241m1\u001B[39m\u001B[38;5;132;01m}\u001B[39;00m\u001B[38;5;124m.nc\u001B[39m\u001B[38;5;124m'\u001B[39m,engine\u001B[38;5;241m=\u001B[39m\u001B[38;5;124m'\u001B[39m\u001B[38;5;124mnetcdf4\u001B[39m\u001B[38;5;124m'\u001B[39m)\n",
      "File \u001B[1;32m~\\Documents\\git\\ConstanceDataPlatform\\cdp_venv\\Lib\\site-packages\\xarray\\core\\dataset.py:389\u001B[0m, in \u001B[0;36mDataset.__init__\u001B[1;34m(self, data_vars, coords, attrs)\u001B[0m\n\u001B[0;32m    386\u001B[0m \u001B[38;5;28;01mif\u001B[39;00m \u001B[38;5;28misinstance\u001B[39m(coords, Dataset):\n\u001B[0;32m    387\u001B[0m     coords \u001B[38;5;241m=\u001B[39m coords\u001B[38;5;241m.\u001B[39m_variables\n\u001B[1;32m--> 389\u001B[0m variables, coord_names, dims, indexes, _ \u001B[38;5;241m=\u001B[39m \u001B[43mmerge_data_and_coords\u001B[49m\u001B[43m(\u001B[49m\n\u001B[0;32m    390\u001B[0m \u001B[43m    \u001B[49m\u001B[43mdata_vars\u001B[49m\u001B[43m,\u001B[49m\u001B[43m \u001B[49m\u001B[43mcoords\u001B[49m\n\u001B[0;32m    391\u001B[0m \u001B[43m\u001B[49m\u001B[43m)\u001B[49m\n\u001B[0;32m    393\u001B[0m \u001B[38;5;28mself\u001B[39m\u001B[38;5;241m.\u001B[39m_attrs \u001B[38;5;241m=\u001B[39m \u001B[38;5;28mdict\u001B[39m(attrs) \u001B[38;5;28;01mif\u001B[39;00m attrs \u001B[38;5;28;01melse\u001B[39;00m \u001B[38;5;28;01mNone\u001B[39;00m\n\u001B[0;32m    394\u001B[0m \u001B[38;5;28mself\u001B[39m\u001B[38;5;241m.\u001B[39m_close \u001B[38;5;241m=\u001B[39m \u001B[38;5;28;01mNone\u001B[39;00m\n",
      "File \u001B[1;32m~\\Documents\\git\\ConstanceDataPlatform\\cdp_venv\\Lib\\site-packages\\xarray\\structure\\merge.py:1082\u001B[0m, in \u001B[0;36mmerge_data_and_coords\u001B[1;34m(data_vars, coords)\u001B[0m\n\u001B[0;32m   1078\u001B[0m     coords \u001B[38;5;241m=\u001B[39m create_coords_with_default_indexes(coords, data_vars)\n\u001B[0;32m   1080\u001B[0m \u001B[38;5;66;03m# exclude coords from alignment (all variables in a Coordinates object should\u001B[39;00m\n\u001B[0;32m   1081\u001B[0m \u001B[38;5;66;03m# already be aligned together) and use coordinates' indexes to align data_vars\u001B[39;00m\n\u001B[1;32m-> 1082\u001B[0m \u001B[38;5;28;01mreturn\u001B[39;00m \u001B[43mmerge_core\u001B[49m\u001B[43m(\u001B[49m\n\u001B[0;32m   1083\u001B[0m \u001B[43m    \u001B[49m\u001B[43m[\u001B[49m\u001B[43mdata_vars\u001B[49m\u001B[43m,\u001B[49m\u001B[43m \u001B[49m\u001B[43mcoords\u001B[49m\u001B[43m]\u001B[49m\u001B[43m,\u001B[49m\n\u001B[0;32m   1084\u001B[0m \u001B[43m    \u001B[49m\u001B[43mcompat\u001B[49m\u001B[38;5;241;43m=\u001B[39;49m\u001B[38;5;124;43m\"\u001B[39;49m\u001B[38;5;124;43mbroadcast_equals\u001B[39;49m\u001B[38;5;124;43m\"\u001B[39;49m\u001B[43m,\u001B[49m\n\u001B[0;32m   1085\u001B[0m \u001B[43m    \u001B[49m\u001B[43mjoin\u001B[49m\u001B[38;5;241;43m=\u001B[39;49m\u001B[38;5;124;43m\"\u001B[39;49m\u001B[38;5;124;43mouter\u001B[39;49m\u001B[38;5;124;43m\"\u001B[39;49m\u001B[43m,\u001B[49m\n\u001B[0;32m   1086\u001B[0m \u001B[43m    \u001B[49m\u001B[43mexplicit_coords\u001B[49m\u001B[38;5;241;43m=\u001B[39;49m\u001B[38;5;28;43mtuple\u001B[39;49m\u001B[43m(\u001B[49m\u001B[43mcoords\u001B[49m\u001B[43m)\u001B[49m\u001B[43m,\u001B[49m\n\u001B[0;32m   1087\u001B[0m \u001B[43m    \u001B[49m\u001B[43mindexes\u001B[49m\u001B[38;5;241;43m=\u001B[39;49m\u001B[43mcoords\u001B[49m\u001B[38;5;241;43m.\u001B[39;49m\u001B[43mxindexes\u001B[49m\u001B[43m,\u001B[49m\n\u001B[0;32m   1088\u001B[0m \u001B[43m    \u001B[49m\u001B[43mpriority_arg\u001B[49m\u001B[38;5;241;43m=\u001B[39;49m\u001B[38;5;241;43m1\u001B[39;49m\u001B[43m,\u001B[49m\n\u001B[0;32m   1089\u001B[0m \u001B[43m    \u001B[49m\u001B[43mskip_align_args\u001B[49m\u001B[38;5;241;43m=\u001B[39;49m\u001B[43m[\u001B[49m\u001B[38;5;241;43m1\u001B[39;49m\u001B[43m]\u001B[49m\u001B[43m,\u001B[49m\n\u001B[0;32m   1090\u001B[0m \u001B[43m\u001B[49m\u001B[43m)\u001B[49m\n",
      "File \u001B[1;32m~\\Documents\\git\\ConstanceDataPlatform\\cdp_venv\\Lib\\site-packages\\xarray\\structure\\merge.py:707\u001B[0m, in \u001B[0;36mmerge_core\u001B[1;34m(objects, compat, join, combine_attrs, priority_arg, explicit_coords, indexes, fill_value, skip_align_args)\u001B[0m\n\u001B[0;32m    704\u001B[0m \u001B[38;5;28;01mfor\u001B[39;00m pos, obj \u001B[38;5;129;01min\u001B[39;00m skip_align_objs:\n\u001B[0;32m    705\u001B[0m     aligned\u001B[38;5;241m.\u001B[39minsert(pos, obj)\n\u001B[1;32m--> 707\u001B[0m collected \u001B[38;5;241m=\u001B[39m \u001B[43mcollect_variables_and_indexes\u001B[49m\u001B[43m(\u001B[49m\u001B[43maligned\u001B[49m\u001B[43m,\u001B[49m\u001B[43m \u001B[49m\u001B[43mindexes\u001B[49m\u001B[38;5;241;43m=\u001B[39;49m\u001B[43mindexes\u001B[49m\u001B[43m)\u001B[49m\n\u001B[0;32m    708\u001B[0m prioritized \u001B[38;5;241m=\u001B[39m _get_priority_vars_and_indexes(aligned, priority_arg, compat\u001B[38;5;241m=\u001B[39mcompat)\n\u001B[0;32m    709\u001B[0m variables, out_indexes \u001B[38;5;241m=\u001B[39m merge_collected(\n\u001B[0;32m    710\u001B[0m     collected, prioritized, compat\u001B[38;5;241m=\u001B[39mcompat, combine_attrs\u001B[38;5;241m=\u001B[39mcombine_attrs\n\u001B[0;32m    711\u001B[0m )\n",
      "File \u001B[1;32m~\\Documents\\git\\ConstanceDataPlatform\\cdp_venv\\Lib\\site-packages\\xarray\\structure\\merge.py:370\u001B[0m, in \u001B[0;36mcollect_variables_and_indexes\u001B[1;34m(list_of_mappings, indexes)\u001B[0m\n\u001B[0;32m    367\u001B[0m     indexes_\u001B[38;5;241m.\u001B[39mpop(name, \u001B[38;5;28;01mNone\u001B[39;00m)\n\u001B[0;32m    368\u001B[0m     append_all(coords_, indexes_)\n\u001B[1;32m--> 370\u001B[0m variable \u001B[38;5;241m=\u001B[39m \u001B[43mas_variable\u001B[49m\u001B[43m(\u001B[49m\u001B[43mvariable\u001B[49m\u001B[43m,\u001B[49m\u001B[43m \u001B[49m\u001B[43mname\u001B[49m\u001B[38;5;241;43m=\u001B[39;49m\u001B[43mname\u001B[49m\u001B[43m,\u001B[49m\u001B[43m \u001B[49m\u001B[43mauto_convert\u001B[49m\u001B[38;5;241;43m=\u001B[39;49m\u001B[38;5;28;43;01mFalse\u001B[39;49;00m\u001B[43m)\u001B[49m\n\u001B[0;32m    371\u001B[0m \u001B[38;5;28;01mif\u001B[39;00m name \u001B[38;5;129;01min\u001B[39;00m indexes:\n\u001B[0;32m    372\u001B[0m     append(name, variable, indexes[name])\n",
      "File \u001B[1;32m~\\Documents\\git\\ConstanceDataPlatform\\cdp_venv\\Lib\\site-packages\\xarray\\core\\variable.py:151\u001B[0m, in \u001B[0;36mas_variable\u001B[1;34m(obj, name, auto_convert)\u001B[0m\n\u001B[0;32m    149\u001B[0m         obj \u001B[38;5;241m=\u001B[39m Variable(dims_, data_, \u001B[38;5;241m*\u001B[39mattrs)\n\u001B[0;32m    150\u001B[0m     \u001B[38;5;28;01mexcept\u001B[39;00m (\u001B[38;5;167;01mTypeError\u001B[39;00m, \u001B[38;5;167;01mValueError\u001B[39;00m) \u001B[38;5;28;01mas\u001B[39;00m error:\n\u001B[1;32m--> 151\u001B[0m         \u001B[38;5;28;01mraise\u001B[39;00m error\u001B[38;5;241m.\u001B[39m\u001B[38;5;18m__class__\u001B[39m(\n\u001B[0;32m    152\u001B[0m             \u001B[38;5;124mf\u001B[39m\u001B[38;5;124m\"\u001B[39m\u001B[38;5;124mVariable \u001B[39m\u001B[38;5;132;01m{\u001B[39;00mname\u001B[38;5;132;01m!r}\u001B[39;00m\u001B[38;5;124m: Could not convert tuple of form \u001B[39m\u001B[38;5;124m\"\u001B[39m\n\u001B[0;32m    153\u001B[0m             \u001B[38;5;124mf\u001B[39m\u001B[38;5;124m\"\u001B[39m\u001B[38;5;124m(dims, data[, attrs, encoding]): \u001B[39m\u001B[38;5;132;01m{\u001B[39;00mobj\u001B[38;5;132;01m}\u001B[39;00m\u001B[38;5;124m to Variable.\u001B[39m\u001B[38;5;124m\"\u001B[39m\n\u001B[0;32m    154\u001B[0m         ) \u001B[38;5;28;01mfrom\u001B[39;00m \u001B[38;5;21;01merror\u001B[39;00m\n\u001B[0;32m    155\u001B[0m \u001B[38;5;28;01melif\u001B[39;00m utils\u001B[38;5;241m.\u001B[39mis_scalar(obj):\n\u001B[0;32m    156\u001B[0m     obj \u001B[38;5;241m=\u001B[39m Variable([], obj)\n",
      "\u001B[1;31mValueError\u001B[0m: Variable 'humidity': Could not convert tuple of form (dims, data[, attrs, encoding]): (['lat', 'lon'], array([[[30.321533, 51.648964],\n        [49.864017, 67.422325]],\n\n       [[60.79177 , 34.082615],\n        [30.572166, 55.646294]],\n\n       [[42.721786, 45.467155],\n        [70.681595, 42.165558]]], dtype=float32)) to Variable."
     ]
    }
   ],
   "execution_count": 19
  },
  {
   "metadata": {},
   "cell_type": "markdown",
   "source": "## 2: Merge these files with a time dimension",
   "id": "f3f47c521db5a7ca"
  },
  {
   "metadata": {
    "ExecuteTime": {
     "end_time": "2025-06-16T09:58:48.316323Z",
     "start_time": "2025-06-16T09:58:48.251340Z"
    }
   },
   "cell_type": "code",
   "source": [
    "files = ['day1.nc', 'day2.nc', 'day3.nc']\n",
    "data_list = []\n",
    "time_list = pd.date_range(\"2023-01-01\", periods=len(files))\n",
    "\n",
    "for i, file in enumerate(files):\n",
    "    ds = xr.open_dataset(f\"{file_root_path}/{file}\",engine=\"netcdf4\")\n",
    "    ds = ds.expand_dims(time=[time_list[i]])  # Add time dimension\n",
    "    data_list.append(ds)\n",
    "\n",
    "merged = xr.concat(data_list, dim='time')\n",
    "\n",
    "# Step 3: Save the merged dataset\n",
    "merged.to_netcdf(f'{file_root_path}/merged_temperature.nc',engine='netcdf4')\n",
    "\n",
    "# Optional: Print dataset summary\n",
    "print(merged)"
   ],
   "id": "cc41706033487856",
   "outputs": [
    {
     "name": "stdout",
     "output_type": "stream",
     "text": [
      "<xarray.Dataset> Size: 704B\n",
      "Dimensions:      (time: 3, lat: 5, lon: 5)\n",
      "Coordinates:\n",
      "  * time         (time) datetime64[ns] 24B 2023-01-01 2023-01-02 2023-01-03\n",
      "  * lat          (lat) float64 40B -10.0 -5.0 0.0 5.0 10.0\n",
      "  * lon          (lon) float64 40B 30.0 35.0 40.0 45.0 50.0\n",
      "Data variables:\n",
      "    temperature  (time, lat, lon) float64 600B 16.64 19.0 16.15 ... 16.67 15.55\n"
     ]
    }
   ],
   "execution_count": 16
  },
  {
   "metadata": {},
   "cell_type": "markdown",
   "source": [
    "## 3: Advance merge to reduce file size\n",
    "\n",
    "There are many ways to reduce netcdf file size\n",
    "\n",
    "- Reduce data precision\n",
    "\n"
   ],
   "id": "c36e797f2e902c2"
  },
  {
   "metadata": {
    "ExecuteTime": {
     "end_time": "2025-06-16T10:35:43.498356Z",
     "start_time": "2025-06-16T10:35:43.428629Z"
    }
   },
   "cell_type": "code",
   "source": [
    "files = ['day1.nc', 'day2.nc', 'day3.nc']\n",
    "data_list = []\n",
    "time_list = pd.date_range(\"2023-01-01\", periods=len(files))\n",
    "\n",
    "for i, file in enumerate(files):\n",
    "    ds = xr.open_dataset(f\"{file_root_path}/{file}\",engine=\"netcdf4\")\n",
    "    ds = ds.expand_dims(time=[time_list[i]])  # Add time dimension\n",
    "    # Optional: ensure only temperature is retained\n",
    "    ds = ds[['temperature']]\n",
    "    \n",
    "    data_list.append(ds)\n",
    "    data_list.append(ds)\n",
    "\n",
    "merged = xr.concat(data_list, dim='time')\n",
    "\n",
    "# Step 3: Save the merged dataset\n",
    "merged.to_netcdf(f'{file_root_path}/ad_merged_temperature.nc',engine='netcdf4')\n",
    "\n",
    "# Optional: Print dataset summary\n",
    "print(merged)"
   ],
   "id": "d068b6c8831b4e93",
   "outputs": [
    {
     "name": "stdout",
     "output_type": "stream",
     "text": [
      "<xarray.Dataset> Size: 1kB\n",
      "Dimensions:      (time: 6, lat: 5, lon: 5)\n",
      "Coordinates:\n",
      "  * time         (time) datetime64[ns] 48B 2023-01-01 2023-01-01 ... 2023-01-03\n",
      "  * lat          (lat) float64 40B -10.0 -5.0 0.0 5.0 10.0\n",
      "  * lon          (lon) float64 40B 30.0 35.0 40.0 45.0 50.0\n",
      "Data variables:\n",
      "    temperature  (time, lat, lon) float64 1kB 17.49 16.59 18.25 ... 18.32 16.65\n"
     ]
    }
   ],
   "execution_count": 18
  }
 ],
 "metadata": {
  "kernelspec": {
   "display_name": "Python 3",
   "language": "python",
   "name": "python3"
  },
  "language_info": {
   "codemirror_mode": {
    "name": "ipython",
    "version": 2
   },
   "file_extension": ".py",
   "mimetype": "text/x-python",
   "name": "python",
   "nbconvert_exporter": "python",
   "pygments_lexer": "ipython2",
   "version": "2.7.6"
  }
 },
 "nbformat": 4,
 "nbformat_minor": 5
}
