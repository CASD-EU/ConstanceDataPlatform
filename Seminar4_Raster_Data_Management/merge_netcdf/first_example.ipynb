{
 "cells": [
  {
   "metadata": {},
   "cell_type": "markdown",
   "source": "# Try to merge netcdf files",
   "id": "eaaa22ff3e12fc5a"
  },
  {
   "metadata": {
    "ExecuteTime": {
     "end_time": "2025-06-16T12:58:23.706369Z",
     "start_time": "2025-06-16T12:58:23.147638Z"
    }
   },
   "cell_type": "code",
   "source": [
    "import xarray as xr\n",
    "import numpy as np\n",
    "import pandas as pd\n",
    "import pathlib"
   ],
   "id": "a773a2d679f8f2f6",
   "outputs": [],
   "execution_count": 1
  },
  {
   "metadata": {
    "ExecuteTime": {
     "end_time": "2025-06-16T12:58:28.756007Z",
     "start_time": "2025-06-16T12:58:28.751162Z"
    }
   },
   "cell_type": "code",
   "source": [
    "file_root_path = (pathlib.Path.cwd().parent.parent / \"data/tmp/netcdf_test_files\").as_posix()\n",
    "print(file_root_path)"
   ],
   "id": "c14d04fdc7062170",
   "outputs": [
    {
     "name": "stdout",
     "output_type": "stream",
     "text": [
      "C:/Users/PLIU/Documents/git/ConstanceDataPlatform/data/tmp/netcdf_test_files\n"
     ]
    }
   ],
   "execution_count": 2
  },
  {
   "metadata": {
    "ExecuteTime": {
     "end_time": "2025-06-16T12:58:29.477382Z",
     "start_time": "2025-06-16T12:58:29.472862Z"
    }
   },
   "cell_type": "code",
   "source": "start_date = \"2025-01-01\"",
   "id": "8df25ba597e55ea2",
   "outputs": [],
   "execution_count": 3
  },
  {
   "metadata": {},
   "cell_type": "markdown",
   "source": [
    "## 1: Create dummy NetCDF files for 3 days\n",
    "\n",
    "In below code, we generate three netcdf files `day1.nc, day2.nc, and day3.nc`."
   ],
   "id": "ffb8f17a8245105b"
  },
  {
   "metadata": {
    "ExecuteTime": {
     "end_time": "2025-06-16T12:58:31.195536Z",
     "start_time": "2025-06-16T12:58:31.104406Z"
    }
   },
   "cell_type": "code",
   "source": [
    "# Define dimensions\n",
    "\n",
    "lat = np.array([10.0, 20.0], dtype=np.float64)\n",
    "lon = np.array([30.0, 40.0], dtype=np.float64)\n",
    "time = pd.date_range(start_date, periods=3)\n",
    "\n",
    "# Generate dummy temperature data\n",
    "\n",
    "for i, t in enumerate(time):\n",
    "    temperature_data = np.random.uniform(280, 300, size=(2, 2)).astype(np.float64)\n",
    "    humidity_data = np.random.uniform(30, 80, size=(2, 2)).astype(np.float64)\n",
    "    # Create dataset\n",
    "    ds = xr.Dataset(\n",
    "        data_vars={\n",
    "            \"temperature\": ([\"lat\", \"lon\"], temperature_data),\n",
    "            \"humidity\": ([\"lat\", \"lon\"], humidity_data),\n",
    "        },\n",
    "        coords={\n",
    "            \"lat\": (\"lat\", lat),\n",
    "            \"lon\": (\"lon\", lon),\n",
    "            \"time\": t,\n",
    "        },\n",
    "        attrs={\n",
    "            \"title\": \"Temperature sample Dataset\",\n",
    "            \"institution\": \"CASD Meteorological Center\",\n",
    "            \"source\": \"Simulated data\",\n",
    "            \"history\": f\"Created {pd.Timestamp.now().strftime('%Y-%m-%d')}\",\n",
    "            \"Conventions\": \"CF-1.8\"\n",
    "        }\n",
    "    )\n",
    "\n",
    "    # Add variable attributes\n",
    "    ds[\"temperature\"].attrs = {\n",
    "        \"long_name\": \"Surface Air Temperature\",\n",
    "        \"units\": \"K\",\n",
    "        \"_FillValue\": -999.0\n",
    "    }\n",
    "    ds[\"humidity\"].attrs = {\n",
    "        \"long_name\": \"Surface Air Humidity\",\n",
    "        \"units\": \"%\",\n",
    "        \"_FillValue\": -1.0\n",
    "    }\n",
    "\n",
    "    ds[\"lat\"].attrs = {\n",
    "        \"units\": \"degrees_north\",\n",
    "        \"long_name\": \"latitude\"\n",
    "    }\n",
    "    ds[\"lon\"].attrs = {\n",
    "        \"units\": \"degrees_east\",\n",
    "        \"long_name\": \"longitude\"\n",
    "    }\n",
    "    ds[\"time\"].attrs = {\"long_name\": \"time\"}\n",
    "    encoding = {\n",
    "        \"temperature\": {\"zlib\": True, \"complevel\": 4},\n",
    "        \"humidity\": {\"zlib\": True, \"complevel\": 4}\n",
    "    }\n",
    "\n",
    "    # Save as NetCDF\n",
    "    print(ds)\n",
    "    ds.to_netcdf(f'{file_root_path}/day{i + 1}.nc', engine='netcdf4', encoding=encoding)"
   ],
   "id": "bed0647af3751068",
   "outputs": [
    {
     "name": "stdout",
     "output_type": "stream",
     "text": [
      "<xarray.Dataset> Size: 104B\n",
      "Dimensions:      (lat: 2, lon: 2)\n",
      "Coordinates:\n",
      "  * lat          (lat) float64 16B 10.0 20.0\n",
      "  * lon          (lon) float64 16B 30.0 40.0\n",
      "    time         datetime64[ns] 8B 2025-01-01\n",
      "Data variables:\n",
      "    temperature  (lat, lon) float64 32B 293.3 296.4 291.0 288.2\n",
      "    humidity     (lat, lon) float64 32B 30.48 48.53 38.06 32.4\n",
      "Attributes:\n",
      "    title:        Temperature sample Dataset\n",
      "    institution:  CASD Meteorological Center\n",
      "    source:       Simulated data\n",
      "    history:      Created 2025-06-16\n",
      "    Conventions:  CF-1.8\n",
      "<xarray.Dataset> Size: 104B\n",
      "Dimensions:      (lat: 2, lon: 2)\n",
      "Coordinates:\n",
      "  * lat          (lat) float64 16B 10.0 20.0\n",
      "  * lon          (lon) float64 16B 30.0 40.0\n",
      "    time         datetime64[ns] 8B 2025-01-02\n",
      "Data variables:\n",
      "    temperature  (lat, lon) float64 32B 282.3 282.0 289.8 299.1\n",
      "    humidity     (lat, lon) float64 32B 32.09 35.37 37.27 45.14\n",
      "Attributes:\n",
      "    title:        Temperature sample Dataset\n",
      "    institution:  CASD Meteorological Center\n",
      "    source:       Simulated data\n",
      "    history:      Created 2025-06-16\n",
      "    Conventions:  CF-1.8\n",
      "<xarray.Dataset> Size: 104B\n",
      "Dimensions:      (lat: 2, lon: 2)\n",
      "Coordinates:\n",
      "  * lat          (lat) float64 16B 10.0 20.0\n",
      "  * lon          (lon) float64 16B 30.0 40.0\n",
      "    time         datetime64[ns] 8B 2025-01-03\n",
      "Data variables:\n",
      "    temperature  (lat, lon) float64 32B 296.0 296.7 283.9 285.6\n",
      "    humidity     (lat, lon) float64 32B 33.51 74.94 56.66 79.9\n",
      "Attributes:\n",
      "    title:        Temperature sample Dataset\n",
      "    institution:  CASD Meteorological Center\n",
      "    source:       Simulated data\n",
      "    history:      Created 2025-06-16\n",
      "    Conventions:  CF-1.8\n"
     ]
    }
   ],
   "execution_count": 4
  },
  {
   "metadata": {},
   "cell_type": "markdown",
   "source": "> After running the above code, you should find the generated data in ./ConstanceDataPlatform/data/tmp.",
   "id": "bf1484c500e789c"
  },
  {
   "metadata": {},
   "cell_type": "markdown",
   "source": [
    "## 2: Merge these files with a time dimension\n",
    "\n",
    "You can notice we merge the three netcdf files into a single one. We almost saved the 70% disk usage."
   ],
   "id": "f3f47c521db5a7ca"
  },
  {
   "metadata": {
    "ExecuteTime": {
     "end_time": "2025-06-16T12:58:34.186445Z",
     "start_time": "2025-06-16T12:58:34.080501Z"
    }
   },
   "cell_type": "code",
   "source": [
    "files = ['day1.nc', 'day2.nc', 'day3.nc']\n",
    "\n",
    "data_list = [xr.open_dataset(f\"{file_root_path}/{file}\", engine=\"netcdf4\") for file in files]\n",
    "\n",
    "merged = xr.concat(data_list, dim='time')\n",
    "\n",
    "# Step 3: Save the merged dataset\n",
    "merged.to_netcdf(f'{file_root_path}/merged_temperature.nc', engine='netcdf4')\n",
    "\n",
    "# Optional: Print dataset summary\n",
    "print(merged)"
   ],
   "id": "cc41706033487856",
   "outputs": [
    {
     "name": "stdout",
     "output_type": "stream",
     "text": [
      "<xarray.Dataset> Size: 248B\n",
      "Dimensions:      (time: 3, lat: 2, lon: 2)\n",
      "Coordinates:\n",
      "  * lat          (lat) float64 16B 10.0 20.0\n",
      "  * lon          (lon) float64 16B 30.0 40.0\n",
      "  * time         (time) datetime64[ns] 24B 2025-01-01 2025-01-02 2025-01-03\n",
      "Data variables:\n",
      "    temperature  (time, lat, lon) float64 96B 293.3 296.4 291.0 ... 283.9 285.6\n",
      "    humidity     (time, lat, lon) float64 96B 30.48 48.53 38.06 ... 56.66 79.9\n",
      "Attributes:\n",
      "    title:        Temperature sample Dataset\n",
      "    institution:  CASD Meteorological Center\n",
      "    source:       Simulated data\n",
      "    history:      Created 2025-06-16\n",
      "    Conventions:  CF-1.8\n"
     ]
    }
   ],
   "execution_count": 5
  },
  {
   "metadata": {},
   "cell_type": "markdown",
   "source": [
    "## 3: Advance merge to reduce file size\n",
    "\n",
    "There are many ways to reduce netcdf file size. In the below example, we will try to reduce precision \n",
    "\n",
    "- Reduce data precision\n",
    "- Data compression\n",
    "\n"
   ],
   "id": "c36e797f2e902c2"
  },
  {
   "metadata": {
    "ExecuteTime": {
     "end_time": "2025-06-16T13:06:28.658316Z",
     "start_time": "2025-06-16T13:06:28.621621Z"
    }
   },
   "cell_type": "code",
   "source": [
    "files = ['day1.nc', 'day2.nc', 'day3.nc']\n",
    "\n",
    "ad_data_list = [xr.open_dataset(f\"{file_root_path}/{file}\", engine=\"netcdf4\") for file in files]\n",
    "\n",
    "for i, ds in enumerate(ad_data_list):\n",
    "   ad_data_list[i][\"temperature\"] = ds[\"temperature\"].astype(np.float32)\n",
    "   ad_data_list[i][\"humidity\"] = ds[\"humidity\"].astype(np.float32)\n",
    "\n",
    "\n",
    "ad_merged = xr.concat(ad_data_list, dim='time')\n",
    "\n",
    "# Compression settings\n",
    "encoding = {\n",
    "    \"temperature\": {\"zlib\": True, \"complevel\": 4, \"dtype\": \"float32\", \"_FillValue\": -999.0, \"chunksizes\": (1, 2, 2)},\n",
    "    \"humidity\": {\"zlib\": True, \"complevel\": 4, \"dtype\": \"float32\", \"_FillValue\": -1.0, \"chunksizes\": (1, 2, 2)},\n",
    "}\n",
    "\n",
    "# Step 3: Save the merged dataset\n",
    "ad_merged.to_netcdf(f'{file_root_path}/ad_merged_temperature.nc', engine='netcdf4', encoding=encoding)\n",
    "\n",
    "# Optional: Print dataset summary\n",
    "print(ad_merged)"
   ],
   "id": "d068b6c8831b4e93",
   "outputs": [
    {
     "name": "stdout",
     "output_type": "stream",
     "text": [
      "<xarray.Dataset> Size: 152B\n",
      "Dimensions:      (time: 3, lat: 2, lon: 2)\n",
      "Coordinates:\n",
      "  * lat          (lat) float64 16B 10.0 20.0\n",
      "  * lon          (lon) float64 16B 30.0 40.0\n",
      "  * time         (time) datetime64[ns] 24B 2025-01-01 2025-01-02 2025-01-03\n",
      "Data variables:\n",
      "    temperature  (time, lat, lon) float32 48B 293.3 296.4 291.0 ... 283.9 285.6\n",
      "    humidity     (time, lat, lon) float32 48B 30.48 48.53 38.06 ... 56.66 79.9\n",
      "Attributes:\n",
      "    title:        Temperature sample Dataset\n",
      "    institution:  CASD Meteorological Center\n",
      "    source:       Simulated data\n",
      "    history:      Created 2025-06-16\n",
      "    Conventions:  CF-1.8\n"
     ]
    }
   ],
   "execution_count": 9
  }
 ],
 "metadata": {
  "kernelspec": {
   "display_name": "Python 3",
   "language": "python",
   "name": "python3"
  },
  "language_info": {
   "codemirror_mode": {
    "name": "ipython",
    "version": 2
   },
   "file_extension": ".py",
   "mimetype": "text/x-python",
   "name": "python",
   "nbconvert_exporter": "python",
   "pygments_lexer": "ipython2",
   "version": "2.7.6"
  }
 },
 "nbformat": 4,
 "nbformat_minor": 5
}
